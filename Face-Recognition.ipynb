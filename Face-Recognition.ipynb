{
 "cells": [
  {
   "cell_type": "markdown",
   "id": "19f75272",
   "metadata": {},
   "source": [
    "### Import Libraries"
   ]
  },
  {
   "cell_type": "code",
   "execution_count": null,
   "id": "802fca17",
   "metadata": {},
   "outputs": [],
   "source": [
    "import cv2 as cv"
   ]
  },
  {
   "cell_type": "markdown",
   "id": "a3a0d57c",
   "metadata": {},
   "source": [
    "### Extracting face and eye classifiers"
   ]
  },
  {
   "cell_type": "code",
   "execution_count": null,
   "id": "5baa8a45",
   "metadata": {},
   "outputs": [],
   "source": [
    "face_cascade=cv2.CascadeClassifier('haarcascade_frontalface_default.xml')\n",
    "eye_cascade=cv2.CascadeClassifier('haarcascade_eye_tree_eyeglasses.xml')"
   ]
  },
  {
   "cell_type": "markdown",
   "id": "85360171",
   "metadata": {},
   "source": [
    "### Assigning camera "
   ]
  },
  {
   "cell_type": "code",
   "execution_count": null,
   "id": "ff4e90a4",
   "metadata": {},
   "outputs": [],
   "source": [
    "cap=cv.VideoCapture(0)"
   ]
  },
  {
   "cell_type": "markdown",
   "id": "8ad41a50",
   "metadata": {},
   "source": [
    "### Creating rectangle around face and eyes"
   ]
  },
  {
   "cell_type": "code",
   "execution_count": null,
   "id": "5cf524b5",
   "metadata": {},
   "outputs": [],
   "source": [
    "while 1:\n",
    "    ret,img=cap.read()\n",
    "    grey=cv.cvtColor(img,cv.COLOR_BGR2GRAY)  # converting image into gray scale for faster image processing\n",
    "    faces=face_cascade.detectMultiScale(grey,1.3,5)\n",
    "    for (x,y,w,h) in faces:\n",
    "        cv.rectangle(img,(x,y),(x+w,y+h),(255,255,0),2)  # drawing square around face\n",
    "        roi_gray=grey[y:y+h,x:x+w]  # declaring area for eye detection\n",
    "        roi_color=img[y:y+h,x:x+w]\n",
    "        \n",
    "        eyes=eye_cascade.detectMultiScale(roi_gray)\n",
    "        \n",
    "        for (ex,ey,ew,eh) in eyes:\n",
    "            cv.rectangle(roi_color,(ex,ey),(ex+ew,ey+eh),(0,127,255),2)  # drwaing square for detected eyes\n",
    "            \n",
    "        cv.imshow('img',img)  # display image\n",
    "        \n",
    "        k = cv.waitKey(5)\n",
    "        if k == 27:\n",
    "            break\n",
    "            \n",
    "cap.release()\n",
    "\n",
    "cv.destroyAllWindows()"
   ]
  },
  {
   "cell_type": "code",
   "execution_count": null,
   "id": "b46b1355",
   "metadata": {},
   "outputs": [],
   "source": []
  },
  {
   "cell_type": "code",
   "execution_count": null,
   "id": "2a67a14c",
   "metadata": {},
   "outputs": [],
   "source": []
  }
 ],
 "metadata": {
  "kernelspec": {
   "display_name": "Python 3 (ipykernel)",
   "language": "python",
   "name": "python3"
  },
  "language_info": {
   "codemirror_mode": {
    "name": "ipython",
    "version": 3
   },
   "file_extension": ".py",
   "mimetype": "text/x-python",
   "name": "python",
   "nbconvert_exporter": "python",
   "pygments_lexer": "ipython3",
   "version": "3.9.15"
  }
 },
 "nbformat": 4,
 "nbformat_minor": 5
}
